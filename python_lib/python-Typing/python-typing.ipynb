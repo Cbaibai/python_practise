{
 "cells": [
  {
   "cell_type": "markdown",
   "metadata": {},
   "source": [
    "# 1. typing 基本使用"
   ]
  },
  {
   "cell_type": "code",
   "execution_count": 1,
   "metadata": {},
   "outputs": [
    {
     "name": "stdout",
     "output_type": "stream",
     "text": [
      "Mike entered 13\n"
     ]
    }
   ],
   "source": [
    "import typing\n",
    "def some_function(number:int,name:str) -> None:\n",
    "    print(\"%s entered %s\"%(name,number))\n",
    "    \n",
    "some_function(13,\"Mike\")"
   ]
  },
  {
   "cell_type": "markdown",
   "metadata": {},
   "source": [
    "* 函数的第一个变量是整数，第二个变量是字符串，函数返回NOne"
   ]
  },
  {
   "cell_type": "code",
   "execution_count": 3,
   "metadata": {},
   "outputs": [
    {
     "name": "stdout",
     "output_type": "stream",
     "text": [
      "True\n",
      "False\n"
     ]
    }
   ],
   "source": [
    "def process_data(my_list:list,name:str) -> bool:\n",
    "    return name in my_list\n",
    "\n",
    "if __name__ == \"__main__\":\n",
    "    my_list = [\"Mike\",\"Nick\",\"Toby\"]\n",
    "    print(process_data(my_list,\"Mike\"))\n",
    "    print(process_data(my_list,\"John\"))"
   ]
  },
  {
   "cell_type": "markdown",
   "metadata": {},
   "source": [
    "# 2. 类型暗示包括 ： 内置的类，抽象出的基本类，types模块的类型和用户定义的类型。\n"
   ]
  },
  {
   "cell_type": "markdown",
   "metadata": {},
   "source": [
    "### 1. 自定义类的暗示"
   ]
  },
  {
   "cell_type": "code",
   "execution_count": 13,
   "metadata": {},
   "outputs": [
    {
     "name": "stdout",
     "output_type": "stream",
     "text": [
      "orange\n",
      "apple\n",
      "['orange', 'apple']\n"
     ]
    }
   ],
   "source": [
    "class Fruit:\n",
    "    def __init__(self,name,color):\n",
    "        self.name = name\n",
    "        self.color = color\n",
    "\n",
    "def salad(fruit_one:Fruit,fruit_two:Fruit) -> list:\n",
    "    #print (fruit_one.name)\n",
    "    #print (fruit_two.name)\n",
    "   \n",
    "    return [fruit_one.name, fruit_two.name]\n",
    "\n",
    "if __name__ == \"__main__\":\n",
    "    f1 = Fruit(\"orange\",\"orange\")\n",
    "    f2 = Fruit(\"apple\",\"red\")\n",
    "    list2= salad(f1,f2)\n",
    "    for i in list2:\n",
    "        print(i)\n",
    "    print(list2)"
   ]
  },
  {
   "cell_type": "markdown",
   "metadata": {},
   "source": [
    "###  2. 创建别名\n"
   ]
  },
  {
   "cell_type": "code",
   "execution_count": 15,
   "metadata": {},
   "outputs": [],
   "source": [
    "import string"
   ]
  },
  {
   "cell_type": "code",
   "execution_count": 16,
   "metadata": {},
   "outputs": [
    {
     "name": "stdout",
     "output_type": "stream",
     "text": [
      "The zoo has 10 Zebras\n"
     ]
    }
   ],
   "source": [
    "Animal = string\n",
    "\n",
    "def zoo(animal:Animal,number:int) -> None:\n",
    "    print(\"The zoo has %s %s\" % (number,animal))\n",
    "\n",
    "if __name__ == \"__main__\":\n",
    "    zoo(\"Zebras\",10)\n",
    "    "
   ]
  },
  {
   "cell_type": "markdown",
   "metadata": {},
   "source": [
    "* 将变量Animal作为string类型的别名。然后我们使用别名Animal向我们的函数添加一个暗示。"
   ]
  },
  {
   "cell_type": "code",
   "execution_count": null,
   "metadata": {},
   "outputs": [],
   "source": []
  }
 ],
 "metadata": {
  "kernelspec": {
   "display_name": "Python 3",
   "language": "python",
   "name": "python3"
  },
  "language_info": {
   "codemirror_mode": {
    "name": "ipython",
    "version": 3
   },
   "file_extension": ".py",
   "mimetype": "text/x-python",
   "name": "python",
   "nbconvert_exporter": "python",
   "pygments_lexer": "ipython3",
   "version": "3.6.5"
  }
 },
 "nbformat": 4,
 "nbformat_minor": 2
}
